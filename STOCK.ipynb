{
  "nbformat": 4,
  "nbformat_minor": 0,
  "metadata": {
    "colab": {
      "provenance": []
    },
    "kernelspec": {
      "name": "python3",
      "display_name": "Python 3"
    },
    "language_info": {
      "name": "python"
    }
  },
  "cells": [
    {
      "cell_type": "code",
      "source": [
        "pip install yfinance"
      ],
      "metadata": {
        "colab": {
          "base_uri": "https://localhost:8080/"
        },
        "id": "mwPO946Mlp9Z",
        "outputId": "72e4b8e5-1dad-4932-d4f5-2b6de554c0f3"
      },
      "execution_count": 2,
      "outputs": [
        {
          "output_type": "stream",
          "name": "stdout",
          "text": [
            "Requirement already satisfied: yfinance in /usr/local/lib/python3.11/dist-packages (0.2.55)\n",
            "Requirement already satisfied: pandas>=1.3.0 in /usr/local/lib/python3.11/dist-packages (from yfinance) (2.2.2)\n",
            "Requirement already satisfied: numpy>=1.16.5 in /usr/local/lib/python3.11/dist-packages (from yfinance) (2.0.2)\n",
            "Requirement already satisfied: requests>=2.31 in /usr/local/lib/python3.11/dist-packages (from yfinance) (2.32.3)\n",
            "Requirement already satisfied: multitasking>=0.0.7 in /usr/local/lib/python3.11/dist-packages (from yfinance) (0.0.11)\n",
            "Requirement already satisfied: platformdirs>=2.0.0 in /usr/local/lib/python3.11/dist-packages (from yfinance) (4.3.7)\n",
            "Requirement already satisfied: pytz>=2022.5 in /usr/local/lib/python3.11/dist-packages (from yfinance) (2025.2)\n",
            "Requirement already satisfied: frozendict>=2.3.4 in /usr/local/lib/python3.11/dist-packages (from yfinance) (2.4.6)\n",
            "Requirement already satisfied: peewee>=3.16.2 in /usr/local/lib/python3.11/dist-packages (from yfinance) (3.17.9)\n",
            "Requirement already satisfied: beautifulsoup4>=4.11.1 in /usr/local/lib/python3.11/dist-packages (from yfinance) (4.13.4)\n",
            "Requirement already satisfied: soupsieve>1.2 in /usr/local/lib/python3.11/dist-packages (from beautifulsoup4>=4.11.1->yfinance) (2.7)\n",
            "Requirement already satisfied: typing-extensions>=4.0.0 in /usr/local/lib/python3.11/dist-packages (from beautifulsoup4>=4.11.1->yfinance) (4.13.2)\n",
            "Requirement already satisfied: python-dateutil>=2.8.2 in /usr/local/lib/python3.11/dist-packages (from pandas>=1.3.0->yfinance) (2.8.2)\n",
            "Requirement already satisfied: tzdata>=2022.7 in /usr/local/lib/python3.11/dist-packages (from pandas>=1.3.0->yfinance) (2025.2)\n",
            "Requirement already satisfied: charset-normalizer<4,>=2 in /usr/local/lib/python3.11/dist-packages (from requests>=2.31->yfinance) (3.4.1)\n",
            "Requirement already satisfied: idna<4,>=2.5 in /usr/local/lib/python3.11/dist-packages (from requests>=2.31->yfinance) (3.10)\n",
            "Requirement already satisfied: urllib3<3,>=1.21.1 in /usr/local/lib/python3.11/dist-packages (from requests>=2.31->yfinance) (2.3.0)\n",
            "Requirement already satisfied: certifi>=2017.4.17 in /usr/local/lib/python3.11/dist-packages (from requests>=2.31->yfinance) (2025.1.31)\n",
            "Requirement already satisfied: six>=1.5 in /usr/local/lib/python3.11/dist-packages (from python-dateutil>=2.8.2->pandas>=1.3.0->yfinance) (1.17.0)\n"
          ]
        }
      ]
    },
    {
      "cell_type": "code",
      "execution_count": 5,
      "metadata": {
        "colab": {
          "base_uri": "https://localhost:8080/"
        },
        "id": "UdtnC07FlZ6x",
        "outputId": "fb7bd174-5272-446c-d852-80aeb64d2d15"
      },
      "outputs": [
        {
          "output_type": "stream",
          "name": "stderr",
          "text": [
            "2025-04-25 10:56:20.805 WARNING streamlit.runtime.scriptrunner_utils.script_run_context: Thread 'MainThread': missing ScriptRunContext! This warning can be ignored when running in bare mode.\n",
            "2025-04-25 10:56:20.896 \n",
            "  \u001b[33m\u001b[1mWarning:\u001b[0m to view this Streamlit app on a browser, run it with the following\n",
            "  command:\n",
            "\n",
            "    streamlit run /usr/local/lib/python3.11/dist-packages/colab_kernel_launcher.py [ARGUMENTS]\n",
            "2025-04-25 10:56:20.897 Thread 'MainThread': missing ScriptRunContext! This warning can be ignored when running in bare mode.\n",
            "2025-04-25 10:56:20.898 Thread 'MainThread': missing ScriptRunContext! This warning can be ignored when running in bare mode.\n",
            "2025-04-25 10:56:20.900 Thread 'MainThread': missing ScriptRunContext! This warning can be ignored when running in bare mode.\n",
            "2025-04-25 10:56:20.901 Thread 'MainThread': missing ScriptRunContext! This warning can be ignored when running in bare mode.\n",
            "2025-04-25 10:56:20.902 Thread 'MainThread': missing ScriptRunContext! This warning can be ignored when running in bare mode.\n",
            "2025-04-25 10:56:20.903 Session state does not function when running a script without `streamlit run`\n",
            "2025-04-25 10:56:20.904 Thread 'MainThread': missing ScriptRunContext! This warning can be ignored when running in bare mode.\n",
            "2025-04-25 10:56:20.905 Thread 'MainThread': missing ScriptRunContext! This warning can be ignored when running in bare mode.\n",
            "2025-04-25 10:56:20.907 Thread 'MainThread': missing ScriptRunContext! This warning can be ignored when running in bare mode.\n",
            "2025-04-25 10:56:20.907 Thread 'MainThread': missing ScriptRunContext! This warning can be ignored when running in bare mode.\n",
            "2025-04-25 10:56:20.908 Thread 'MainThread': missing ScriptRunContext! This warning can be ignored when running in bare mode.\n",
            "2025-04-25 10:56:20.908 Thread 'MainThread': missing ScriptRunContext! This warning can be ignored when running in bare mode.\n",
            "2025-04-25 10:56:20.909 Thread 'MainThread': missing ScriptRunContext! This warning can be ignored when running in bare mode.\n",
            "2025-04-25 10:56:20.910 Thread 'MainThread': missing ScriptRunContext! This warning can be ignored when running in bare mode.\n",
            "2025-04-25 10:56:20.910 Thread 'MainThread': missing ScriptRunContext! This warning can be ignored when running in bare mode.\n",
            "2025-04-25 10:56:20.911 Thread 'MainThread': missing ScriptRunContext! This warning can be ignored when running in bare mode.\n",
            "2025-04-25 10:56:20.911 Thread 'MainThread': missing ScriptRunContext! This warning can be ignored when running in bare mode.\n"
          ]
        }
      ],
      "source": [
        "import time\n",
        "import streamlit as st\n",
        "import pandas as pd\n",
        "import yfinance as yf\n",
        "from sklearn.linear_model import LinearRegression\n",
        "import matplotlib.pyplot as plt\n",
        "import matplotlib\n",
        "matplotlib.use('Agg')\n",
        "\n",
        "st.title(\"📈 Real-Time Stock Price Prediction\")\n",
        "ticker = st.text_input(\"Enter Ticker Symbol\", value=\"AAPL\")\n",
        "st.write(\"Predicting real-time stock prices using Linear Regression\")\n",
        "\n",
        "run_button = st.button(\"Run Prediction\")\n",
        "\n",
        "if run_button:\n",
        "    model = LinearRegression()\n",
        "\n",
        "    progress = st.empty()\n",
        "    chart = st.empty()\n",
        "\n",
        "    while True:\n",
        "        progress.text(\"Fetching latest data...\")\n",
        "\n",
        "        df = yf.download(tickers=ticker, period='1d', interval='1m')\n",
        "        if df.empty:\n",
        "            st.warning(\"No data received. Waiting for update...\")\n",
        "            time.sleep(60)\n",
        "            continue\n",
        "\n",
        "        df.reset_index(inplace=True)\n",
        "        df['Datetime'] = pd.to_datetime(df['Datetime'])\n",
        "        df = df.dropna()\n",
        "\n",
        "        df['Day'] = df['Datetime'].dt.day\n",
        "        df['Month'] = df['Datetime'].dt.month\n",
        "        df['Year'] = df['Datetime'].dt.year\n",
        "        df['Weekday'] = df['Datetime'].dt.weekday\n",
        "\n",
        "        features = ['Open', 'High', 'Low', 'Volume', 'Day', 'Month', 'Year', 'Weekday']\n",
        "        if len(df) < 10:\n",
        "            time.sleep(60)\n",
        "            continue\n",
        "\n",
        "        X = df[features]\n",
        "        y = df['Close']\n",
        "\n",
        "        model.fit(X, y)\n",
        "        prediction = model.predict(X)\n",
        "\n",
        "        fig, ax = plt.subplots()\n",
        "        ax.plot(df['Datetime'], df['Close'], label='Actual')\n",
        "        ax.plot(df['Datetime'], prediction, label='Predicted', linestyle='--')\n",
        "        ax.set_xlabel(\"Time\")\n",
        "        ax.set_ylabel(\"Price\")\n",
        "        ax.set_title(f\"{ticker} - Real-Time Prediction\")\n",
        "        ax.legend()\n",
        "        chart.pyplot(fig)\n",
        "\n",
        "        time.sleep(60)\n"
      ]
    }
  ]
}